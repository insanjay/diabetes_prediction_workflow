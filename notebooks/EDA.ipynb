{
 "cells": [
  {
   "cell_type": "markdown",
   "metadata": {},
   "source": [
    "## This notebook covers both the **Data scientist** and **EDA** part for the project."
   ]
  },
  {
   "cell_type": "markdown",
   "metadata": {},
   "source": [
    "You can read about the dataset used here on the given links below:\n",
    "\n",
    "---\n",
    "- [CDC website](https://archive.ics.uci.edu/dataset/891/cdc%2Bdiabetes%2Bhealth%2Bindicators?) What this dataset contains?\n",
    "- [Kaggle](https://www.kaggle.com/datasets/alexteboul/diabetes-health-indicators-dataset?) Why this project is important?\n",
    "---"
   ]
  },
  {
   "cell_type": "markdown",
   "metadata": {},
   "source": [
    "###  Importing dependencies"
   ]
  },
  {
   "cell_type": "code",
   "execution_count": 1,
   "metadata": {},
   "outputs": [],
   "source": [
    "import pandas as pd\n",
    "import matplotlib.pyplot as plt\n",
    "from ucimlrepo import fetch_ucirepo"
   ]
  },
  {
   "cell_type": "markdown",
   "metadata": {},
   "source": [
    "Fetching the dataset from `ucimlrepo`"
   ]
  },
  {
   "cell_type": "code",
   "execution_count": 2,
   "metadata": {},
   "outputs": [],
   "source": [
    "data = fetch_ucirepo(id=891)\n",
    "# data.to_csv('diabetes_dataset.csv', index=False)"
   ]
  },
  {
   "cell_type": "markdown",
   "metadata": {},
   "source": [
    "The code below is to set the view of the columns and the rows to the max."
   ]
  },
  {
   "cell_type": "code",
   "execution_count": 3,
   "metadata": {},
   "outputs": [],
   "source": [
    "pd.set_option('display.max_rows', None)\n",
    "pd.set_option('display.max_columns', None)"
   ]
  },
  {
   "cell_type": "code",
   "execution_count": 4,
   "metadata": {},
   "outputs": [],
   "source": [
    "# Extract the 'original' dataset from the dotdict object and create a DataFrame\n",
    "df = pd.DataFrame(data['data']['original'])\n",
    "# df.head()\n",
    "df.to_csv('diabetes_dataset.csv', index=False)"
   ]
  },
  {
   "cell_type": "markdown",
   "metadata": {},
   "source": [
    "Dropped the ID col as it's irrelevant to the model training."
   ]
  },
  {
   "cell_type": "code",
   "execution_count": 5,
   "metadata": {},
   "outputs": [],
   "source": [
    "df.drop(columns=\"ID\", inplace=True, axis=1)"
   ]
  },
  {
   "cell_type": "code",
   "execution_count": 6,
   "metadata": {},
   "outputs": [
    {
     "data": {
      "text/plain": [
       "(253680, 22)"
      ]
     },
     "execution_count": 6,
     "metadata": {},
     "output_type": "execute_result"
    }
   ],
   "source": [
    "df.shape"
   ]
  },
  {
   "cell_type": "code",
   "execution_count": 7,
   "metadata": {},
   "outputs": [
    {
     "data": {
      "text/plain": [
       "Index(['ID', 'Diabetes_binary', 'HighBP', 'HighChol', 'CholCheck', 'BMI',\n",
       "       'Smoker', 'Stroke', 'HeartDiseaseorAttack', 'PhysActivity', 'Fruits',\n",
       "       'Veggies', 'HvyAlcoholConsump', 'AnyHealthcare', 'NoDocbcCost',\n",
       "       'GenHlth', 'MentHlth', 'PhysHlth', 'DiffWalk', 'Sex', 'Age',\n",
       "       'Education', 'Income'],\n",
       "      dtype='object')"
      ]
     },
     "execution_count": 7,
     "metadata": {},
     "output_type": "execute_result"
    }
   ],
   "source": [
    "import pandas as pd\n",
    "df = pd.read_csv('diabetes_dataset.csv')\n",
    "df.columns"
   ]
  },
  {
   "cell_type": "code",
   "execution_count": 8,
   "metadata": {},
   "outputs": [],
   "source": [
    "# Feature: Has_High_Risk_Factor\n",
    "df[\"Has_High_Risk_Factor\"] = (\n",
    "    (df[\"HighBP\"] == 1) | (df[\"HighChol\"] == 1) | (df[\"CholCheck\"] == 0)\n",
    ").astype(int)\n",
    "\n",
    "# Feature: Cardio_History\n",
    "df[\"Cardio_History\"] = (\n",
    "    (df[\"Stroke\"] == 1) | (df[\"HeartDiseaseorAttack\"] == 1)\n",
    ").astype(int)\n",
    "\n",
    "# Feature: Risky_Habits\n",
    "df[\"Risky_Habits\"] = df[\"Smoker\"] + df[\"HvyAlcoholConsump\"]\n",
    "\n",
    "# Feature: Healthy_Lifestyle_Score\n",
    "df[\"Healthy_Lifestyle_Score\"] = df[\"PhysActivity\"] + df[\"Fruits\"] + df[\"Veggies\"]\n",
    "\n",
    "# Feature: Total_Unhealthy_Days\n",
    "df[\"Total_Unhealthy_Days\"] = df[\"MentHlth\"] + df[\"PhysHlth\"]\n",
    "\n",
    "# Optional Binning: BMI Category\n",
    "def bmi_category(bmi):\n",
    "    if bmi < 18.5:\n",
    "        return \"Underweight\"\n",
    "    elif bmi < 25:\n",
    "        return \"Normal\"\n",
    "    elif bmi < 30:\n",
    "        return \"Overweight\"\n",
    "    else:\n",
    "        return \"Obese\"\n",
    "\n",
    "df[\"BMI_Category\"] = df[\"BMI\"].apply(bmi_category)\n",
    "\n",
    "# Optional Binning: General Health\n",
    "df[\"GenHlth_Binary\"] = df[\"GenHlth\"].apply(lambda x: 1 if x <= 3 else 0)  # 1 = Good, 0 = Poor\n",
    "\n",
    "# Optional Binning: Age Group\n",
    "def age_group(age_code):\n",
    "    if age_code <= 3:\n",
    "        return \"18-29\"\n",
    "    elif age_code <= 5:\n",
    "        return \"30-44\"\n",
    "    elif age_code <= 7:\n",
    "        return \"45-59\"\n",
    "    else:\n",
    "        return \"60+\"\n",
    "\n",
    "df[\"Age_Group\"] = df[\"Age\"].apply(age_group)\n",
    "\n",
    "# Optional: One-hot encode categorical (like Age_Group, BMI_Category) later before training\n"
   ]
  },
  {
   "cell_type": "code",
   "execution_count": 9,
   "metadata": {},
   "outputs": [
    {
     "data": {
      "text/html": [
       "<div>\n",
       "<style scoped>\n",
       "    .dataframe tbody tr th:only-of-type {\n",
       "        vertical-align: middle;\n",
       "    }\n",
       "\n",
       "    .dataframe tbody tr th {\n",
       "        vertical-align: top;\n",
       "    }\n",
       "\n",
       "    .dataframe thead th {\n",
       "        text-align: right;\n",
       "    }\n",
       "</style>\n",
       "<table border=\"1\" class=\"dataframe\">\n",
       "  <thead>\n",
       "    <tr style=\"text-align: right;\">\n",
       "      <th></th>\n",
       "      <th>ID</th>\n",
       "      <th>Diabetes_binary</th>\n",
       "      <th>HighBP</th>\n",
       "      <th>HighChol</th>\n",
       "      <th>CholCheck</th>\n",
       "      <th>BMI</th>\n",
       "      <th>Smoker</th>\n",
       "      <th>Stroke</th>\n",
       "      <th>HeartDiseaseorAttack</th>\n",
       "      <th>PhysActivity</th>\n",
       "      <th>Fruits</th>\n",
       "      <th>Veggies</th>\n",
       "      <th>HvyAlcoholConsump</th>\n",
       "      <th>AnyHealthcare</th>\n",
       "      <th>NoDocbcCost</th>\n",
       "      <th>GenHlth</th>\n",
       "      <th>MentHlth</th>\n",
       "      <th>PhysHlth</th>\n",
       "      <th>DiffWalk</th>\n",
       "      <th>Sex</th>\n",
       "      <th>Age</th>\n",
       "      <th>Education</th>\n",
       "      <th>Income</th>\n",
       "      <th>Has_High_Risk_Factor</th>\n",
       "      <th>Cardio_History</th>\n",
       "      <th>Risky_Habits</th>\n",
       "      <th>Healthy_Lifestyle_Score</th>\n",
       "      <th>Total_Unhealthy_Days</th>\n",
       "      <th>BMI_Category</th>\n",
       "      <th>GenHlth_Binary</th>\n",
       "      <th>Age_Group</th>\n",
       "    </tr>\n",
       "  </thead>\n",
       "  <tbody>\n",
       "    <tr>\n",
       "      <th>0</th>\n",
       "      <td>0</td>\n",
       "      <td>0</td>\n",
       "      <td>1</td>\n",
       "      <td>1</td>\n",
       "      <td>1</td>\n",
       "      <td>40</td>\n",
       "      <td>1</td>\n",
       "      <td>0</td>\n",
       "      <td>0</td>\n",
       "      <td>0</td>\n",
       "      <td>0</td>\n",
       "      <td>1</td>\n",
       "      <td>0</td>\n",
       "      <td>1</td>\n",
       "      <td>0</td>\n",
       "      <td>5</td>\n",
       "      <td>18</td>\n",
       "      <td>15</td>\n",
       "      <td>1</td>\n",
       "      <td>0</td>\n",
       "      <td>9</td>\n",
       "      <td>4</td>\n",
       "      <td>3</td>\n",
       "      <td>1</td>\n",
       "      <td>0</td>\n",
       "      <td>1</td>\n",
       "      <td>1</td>\n",
       "      <td>33</td>\n",
       "      <td>Obese</td>\n",
       "      <td>0</td>\n",
       "      <td>60+</td>\n",
       "    </tr>\n",
       "    <tr>\n",
       "      <th>1</th>\n",
       "      <td>1</td>\n",
       "      <td>0</td>\n",
       "      <td>0</td>\n",
       "      <td>0</td>\n",
       "      <td>0</td>\n",
       "      <td>25</td>\n",
       "      <td>1</td>\n",
       "      <td>0</td>\n",
       "      <td>0</td>\n",
       "      <td>1</td>\n",
       "      <td>0</td>\n",
       "      <td>0</td>\n",
       "      <td>0</td>\n",
       "      <td>0</td>\n",
       "      <td>1</td>\n",
       "      <td>3</td>\n",
       "      <td>0</td>\n",
       "      <td>0</td>\n",
       "      <td>0</td>\n",
       "      <td>0</td>\n",
       "      <td>7</td>\n",
       "      <td>6</td>\n",
       "      <td>1</td>\n",
       "      <td>1</td>\n",
       "      <td>0</td>\n",
       "      <td>1</td>\n",
       "      <td>1</td>\n",
       "      <td>0</td>\n",
       "      <td>Overweight</td>\n",
       "      <td>1</td>\n",
       "      <td>45-59</td>\n",
       "    </tr>\n",
       "    <tr>\n",
       "      <th>2</th>\n",
       "      <td>2</td>\n",
       "      <td>0</td>\n",
       "      <td>1</td>\n",
       "      <td>1</td>\n",
       "      <td>1</td>\n",
       "      <td>28</td>\n",
       "      <td>0</td>\n",
       "      <td>0</td>\n",
       "      <td>0</td>\n",
       "      <td>0</td>\n",
       "      <td>1</td>\n",
       "      <td>0</td>\n",
       "      <td>0</td>\n",
       "      <td>1</td>\n",
       "      <td>1</td>\n",
       "      <td>5</td>\n",
       "      <td>30</td>\n",
       "      <td>30</td>\n",
       "      <td>1</td>\n",
       "      <td>0</td>\n",
       "      <td>9</td>\n",
       "      <td>4</td>\n",
       "      <td>8</td>\n",
       "      <td>1</td>\n",
       "      <td>0</td>\n",
       "      <td>0</td>\n",
       "      <td>1</td>\n",
       "      <td>60</td>\n",
       "      <td>Overweight</td>\n",
       "      <td>0</td>\n",
       "      <td>60+</td>\n",
       "    </tr>\n",
       "    <tr>\n",
       "      <th>3</th>\n",
       "      <td>3</td>\n",
       "      <td>0</td>\n",
       "      <td>1</td>\n",
       "      <td>0</td>\n",
       "      <td>1</td>\n",
       "      <td>27</td>\n",
       "      <td>0</td>\n",
       "      <td>0</td>\n",
       "      <td>0</td>\n",
       "      <td>1</td>\n",
       "      <td>1</td>\n",
       "      <td>1</td>\n",
       "      <td>0</td>\n",
       "      <td>1</td>\n",
       "      <td>0</td>\n",
       "      <td>2</td>\n",
       "      <td>0</td>\n",
       "      <td>0</td>\n",
       "      <td>0</td>\n",
       "      <td>0</td>\n",
       "      <td>11</td>\n",
       "      <td>3</td>\n",
       "      <td>6</td>\n",
       "      <td>1</td>\n",
       "      <td>0</td>\n",
       "      <td>0</td>\n",
       "      <td>3</td>\n",
       "      <td>0</td>\n",
       "      <td>Overweight</td>\n",
       "      <td>1</td>\n",
       "      <td>60+</td>\n",
       "    </tr>\n",
       "    <tr>\n",
       "      <th>4</th>\n",
       "      <td>4</td>\n",
       "      <td>0</td>\n",
       "      <td>1</td>\n",
       "      <td>1</td>\n",
       "      <td>1</td>\n",
       "      <td>24</td>\n",
       "      <td>0</td>\n",
       "      <td>0</td>\n",
       "      <td>0</td>\n",
       "      <td>1</td>\n",
       "      <td>1</td>\n",
       "      <td>1</td>\n",
       "      <td>0</td>\n",
       "      <td>1</td>\n",
       "      <td>0</td>\n",
       "      <td>2</td>\n",
       "      <td>3</td>\n",
       "      <td>0</td>\n",
       "      <td>0</td>\n",
       "      <td>0</td>\n",
       "      <td>11</td>\n",
       "      <td>5</td>\n",
       "      <td>4</td>\n",
       "      <td>1</td>\n",
       "      <td>0</td>\n",
       "      <td>0</td>\n",
       "      <td>3</td>\n",
       "      <td>3</td>\n",
       "      <td>Normal</td>\n",
       "      <td>1</td>\n",
       "      <td>60+</td>\n",
       "    </tr>\n",
       "  </tbody>\n",
       "</table>\n",
       "</div>"
      ],
      "text/plain": [
       "   ID  Diabetes_binary  HighBP  HighChol  CholCheck  BMI  Smoker  Stroke  \\\n",
       "0   0                0       1         1          1   40       1       0   \n",
       "1   1                0       0         0          0   25       1       0   \n",
       "2   2                0       1         1          1   28       0       0   \n",
       "3   3                0       1         0          1   27       0       0   \n",
       "4   4                0       1         1          1   24       0       0   \n",
       "\n",
       "   HeartDiseaseorAttack  PhysActivity  Fruits  Veggies  HvyAlcoholConsump  \\\n",
       "0                     0             0       0        1                  0   \n",
       "1                     0             1       0        0                  0   \n",
       "2                     0             0       1        0                  0   \n",
       "3                     0             1       1        1                  0   \n",
       "4                     0             1       1        1                  0   \n",
       "\n",
       "   AnyHealthcare  NoDocbcCost  GenHlth  MentHlth  PhysHlth  DiffWalk  Sex  \\\n",
       "0              1            0        5        18        15         1    0   \n",
       "1              0            1        3         0         0         0    0   \n",
       "2              1            1        5        30        30         1    0   \n",
       "3              1            0        2         0         0         0    0   \n",
       "4              1            0        2         3         0         0    0   \n",
       "\n",
       "   Age  Education  Income  Has_High_Risk_Factor  Cardio_History  Risky_Habits  \\\n",
       "0    9          4       3                     1               0             1   \n",
       "1    7          6       1                     1               0             1   \n",
       "2    9          4       8                     1               0             0   \n",
       "3   11          3       6                     1               0             0   \n",
       "4   11          5       4                     1               0             0   \n",
       "\n",
       "   Healthy_Lifestyle_Score  Total_Unhealthy_Days BMI_Category  GenHlth_Binary  \\\n",
       "0                        1                    33        Obese               0   \n",
       "1                        1                     0   Overweight               1   \n",
       "2                        1                    60   Overweight               0   \n",
       "3                        3                     0   Overweight               1   \n",
       "4                        3                     3       Normal               1   \n",
       "\n",
       "  Age_Group  \n",
       "0       60+  \n",
       "1     45-59  \n",
       "2       60+  \n",
       "3       60+  \n",
       "4       60+  "
      ]
     },
     "execution_count": 9,
     "metadata": {},
     "output_type": "execute_result"
    }
   ],
   "source": [
    "df.head()"
   ]
  },
  {
   "cell_type": "code",
   "execution_count": 10,
   "metadata": {},
   "outputs": [
    {
     "data": {
      "text/plain": [
       "Index(['ID', 'Diabetes_binary', 'HighBP', 'HighChol', 'CholCheck', 'BMI',\n",
       "       'Smoker', 'Stroke', 'HeartDiseaseorAttack', 'PhysActivity', 'Fruits',\n",
       "       'Veggies', 'HvyAlcoholConsump', 'AnyHealthcare', 'NoDocbcCost',\n",
       "       'GenHlth', 'MentHlth', 'PhysHlth', 'DiffWalk', 'Sex', 'Age',\n",
       "       'Education', 'Income', 'Has_High_Risk_Factor', 'Cardio_History',\n",
       "       'Risky_Habits', 'Healthy_Lifestyle_Score', 'Total_Unhealthy_Days',\n",
       "       'BMI_Category', 'GenHlth_Binary', 'Age_Group'],\n",
       "      dtype='object')"
      ]
     },
     "execution_count": 10,
     "metadata": {},
     "output_type": "execute_result"
    }
   ],
   "source": [
    "df.columns"
   ]
  },
  {
   "cell_type": "code",
   "execution_count": 18,
   "metadata": {},
   "outputs": [],
   "source": [
    "df.to_csv('diabetes_dataset_enhanced.csv', index=False)"
   ]
  },
  {
   "cell_type": "code",
   "execution_count": 11,
   "metadata": {},
   "outputs": [
    {
     "data": {
      "text/plain": [
       "Diabetes_binary\n",
       "0    218334\n",
       "1     35346\n",
       "Name: count, dtype: int64"
      ]
     },
     "execution_count": 11,
     "metadata": {},
     "output_type": "execute_result"
    }
   ],
   "source": [
    "df[\"Diabetes_binary\"].value_counts()"
   ]
  },
  {
   "cell_type": "markdown",
   "metadata": {},
   "source": [
    "The data set has no null value or missing value"
   ]
  },
  {
   "cell_type": "code",
   "execution_count": 12,
   "metadata": {},
   "outputs": [
    {
     "data": {
      "text/plain": [
       "ID                         0\n",
       "Diabetes_binary            0\n",
       "HighBP                     0\n",
       "HighChol                   0\n",
       "CholCheck                  0\n",
       "BMI                        0\n",
       "Smoker                     0\n",
       "Stroke                     0\n",
       "HeartDiseaseorAttack       0\n",
       "PhysActivity               0\n",
       "Fruits                     0\n",
       "Veggies                    0\n",
       "HvyAlcoholConsump          0\n",
       "AnyHealthcare              0\n",
       "NoDocbcCost                0\n",
       "GenHlth                    0\n",
       "MentHlth                   0\n",
       "PhysHlth                   0\n",
       "DiffWalk                   0\n",
       "Sex                        0\n",
       "Age                        0\n",
       "Education                  0\n",
       "Income                     0\n",
       "Has_High_Risk_Factor       0\n",
       "Cardio_History             0\n",
       "Risky_Habits               0\n",
       "Healthy_Lifestyle_Score    0\n",
       "Total_Unhealthy_Days       0\n",
       "BMI_Category               0\n",
       "GenHlth_Binary             0\n",
       "Age_Group                  0\n",
       "dtype: int64"
      ]
     },
     "execution_count": 12,
     "metadata": {},
     "output_type": "execute_result"
    }
   ],
   "source": [
    "df.isnull().sum()"
   ]
  },
  {
   "cell_type": "code",
   "execution_count": 13,
   "metadata": {},
   "outputs": [
    {
     "name": "stdout",
     "output_type": "stream",
     "text": [
      "<class 'pandas.core.frame.DataFrame'>\n",
      "RangeIndex: 253680 entries, 0 to 253679\n",
      "Data columns (total 31 columns):\n",
      " #   Column                   Non-Null Count   Dtype \n",
      "---  ------                   --------------   ----- \n",
      " 0   ID                       253680 non-null  int64 \n",
      " 1   Diabetes_binary          253680 non-null  int64 \n",
      " 2   HighBP                   253680 non-null  int64 \n",
      " 3   HighChol                 253680 non-null  int64 \n",
      " 4   CholCheck                253680 non-null  int64 \n",
      " 5   BMI                      253680 non-null  int64 \n",
      " 6   Smoker                   253680 non-null  int64 \n",
      " 7   Stroke                   253680 non-null  int64 \n",
      " 8   HeartDiseaseorAttack     253680 non-null  int64 \n",
      " 9   PhysActivity             253680 non-null  int64 \n",
      " 10  Fruits                   253680 non-null  int64 \n",
      " 11  Veggies                  253680 non-null  int64 \n",
      " 12  HvyAlcoholConsump        253680 non-null  int64 \n",
      " 13  AnyHealthcare            253680 non-null  int64 \n",
      " 14  NoDocbcCost              253680 non-null  int64 \n",
      " 15  GenHlth                  253680 non-null  int64 \n",
      " 16  MentHlth                 253680 non-null  int64 \n",
      " 17  PhysHlth                 253680 non-null  int64 \n",
      " 18  DiffWalk                 253680 non-null  int64 \n",
      " 19  Sex                      253680 non-null  int64 \n",
      " 20  Age                      253680 non-null  int64 \n",
      " 21  Education                253680 non-null  int64 \n",
      " 22  Income                   253680 non-null  int64 \n",
      " 23  Has_High_Risk_Factor     253680 non-null  int64 \n",
      " 24  Cardio_History           253680 non-null  int64 \n",
      " 25  Risky_Habits             253680 non-null  int64 \n",
      " 26  Healthy_Lifestyle_Score  253680 non-null  int64 \n",
      " 27  Total_Unhealthy_Days     253680 non-null  int64 \n",
      " 28  BMI_Category             253680 non-null  object\n",
      " 29  GenHlth_Binary           253680 non-null  int64 \n",
      " 30  Age_Group                253680 non-null  object\n",
      "dtypes: int64(29), object(2)\n",
      "memory usage: 60.0+ MB\n"
     ]
    }
   ],
   "source": [
    "df.info()"
   ]
  },
  {
   "cell_type": "markdown",
   "metadata": {},
   "source": [
    "---"
   ]
  },
  {
   "cell_type": "markdown",
   "metadata": {},
   "source": [
    "Selected **\"BMI\", \"MentHlth\", \"PhysHlth\"** cols because only these 3 cols have continous numerical data."
   ]
  },
  {
   "cell_type": "markdown",
   "metadata": {},
   "source": [
    "### Explaination\n",
    "\n",
    "There are in total 6 features which can be considered for the std vs mean comparison but only three of these are truly continous numeric other three are ordinal, that's why these cols have been chosen for further EDA."
   ]
  },
  {
   "cell_type": "code",
   "execution_count": 14,
   "metadata": {},
   "outputs": [
    {
     "data": {
      "text/html": [
       "<div>\n",
       "<style scoped>\n",
       "    .dataframe tbody tr th:only-of-type {\n",
       "        vertical-align: middle;\n",
       "    }\n",
       "\n",
       "    .dataframe tbody tr th {\n",
       "        vertical-align: top;\n",
       "    }\n",
       "\n",
       "    .dataframe thead th {\n",
       "        text-align: right;\n",
       "    }\n",
       "</style>\n",
       "<table border=\"1\" class=\"dataframe\">\n",
       "  <thead>\n",
       "    <tr style=\"text-align: right;\">\n",
       "      <th></th>\n",
       "      <th>BMI</th>\n",
       "      <th>MentHlth</th>\n",
       "      <th>PhysHlth</th>\n",
       "    </tr>\n",
       "  </thead>\n",
       "  <tbody>\n",
       "    <tr>\n",
       "      <th>count</th>\n",
       "      <td>253680.00</td>\n",
       "      <td>253680.00</td>\n",
       "      <td>253680.00</td>\n",
       "    </tr>\n",
       "    <tr>\n",
       "      <th>mean</th>\n",
       "      <td>28.38</td>\n",
       "      <td>3.18</td>\n",
       "      <td>4.24</td>\n",
       "    </tr>\n",
       "    <tr>\n",
       "      <th>std</th>\n",
       "      <td>6.61</td>\n",
       "      <td>7.41</td>\n",
       "      <td>8.72</td>\n",
       "    </tr>\n",
       "    <tr>\n",
       "      <th>min</th>\n",
       "      <td>12.00</td>\n",
       "      <td>0.00</td>\n",
       "      <td>0.00</td>\n",
       "    </tr>\n",
       "    <tr>\n",
       "      <th>25%</th>\n",
       "      <td>24.00</td>\n",
       "      <td>0.00</td>\n",
       "      <td>0.00</td>\n",
       "    </tr>\n",
       "    <tr>\n",
       "      <th>50%</th>\n",
       "      <td>27.00</td>\n",
       "      <td>0.00</td>\n",
       "      <td>0.00</td>\n",
       "    </tr>\n",
       "    <tr>\n",
       "      <th>75%</th>\n",
       "      <td>31.00</td>\n",
       "      <td>2.00</td>\n",
       "      <td>3.00</td>\n",
       "    </tr>\n",
       "    <tr>\n",
       "      <th>max</th>\n",
       "      <td>98.00</td>\n",
       "      <td>30.00</td>\n",
       "      <td>30.00</td>\n",
       "    </tr>\n",
       "  </tbody>\n",
       "</table>\n",
       "</div>"
      ],
      "text/plain": [
       "             BMI   MentHlth   PhysHlth\n",
       "count  253680.00  253680.00  253680.00\n",
       "mean       28.38       3.18       4.24\n",
       "std         6.61       7.41       8.72\n",
       "min        12.00       0.00       0.00\n",
       "25%        24.00       0.00       0.00\n",
       "50%        27.00       0.00       0.00\n",
       "75%        31.00       2.00       3.00\n",
       "max        98.00      30.00      30.00"
      ]
     },
     "execution_count": 14,
     "metadata": {},
     "output_type": "execute_result"
    }
   ],
   "source": [
    "df[[\"BMI\", \"MentHlth\", \"PhysHlth\"]].describe().round(2)"
   ]
  },
  {
   "cell_type": "markdown",
   "metadata": {},
   "source": [
    "Out of 3 features only **BMI** standout as the feature with normal distribution, but other two **MentHlth** and **PhysHlth** contains outlier and need to verify them using the visualisation methods."
   ]
  },
  {
   "cell_type": "markdown",
   "metadata": {},
   "source": [
    "---"
   ]
  },
  {
   "cell_type": "markdown",
   "metadata": {},
   "source": [
    "Here, using the `Histograms` to see the distribution of the data within each feature."
   ]
  },
  {
   "cell_type": "code",
   "execution_count": 15,
   "metadata": {},
   "outputs": [
    {
     "data": {
      "image/png": "[encoded data removed]",
      "text/plain": [
       "<Figure size 1200x400 with 3 Axes>"
      ]
     },
     "metadata": {},
     "output_type": "display_data"
    }
   ],
   "source": [
    "bmi = df[\"BMI\"].values\n",
    "menthlth = df[\"MentHlth\"].values\n",
    "physhlth = df[\"PhysHlth\"].values\n",
    "plt.figure(figsize=(12, 4))\n",
    "\n",
    "# Plot histogram for BMI\n",
    "plt.subplot(1, 3, 1)\n",
    "plt.hist(bmi, bins=30, color='blue', alpha=0.7)\n",
    "plt.title('BMI Distribution')\n",
    "plt.xlabel('BMI')\n",
    "plt.ylabel('Frequency')\n",
    "\n",
    "# Plot histogram for MentHlth\n",
    "plt.subplot(1, 3, 2)\n",
    "plt.hist(menthlth, bins=30, color='green', alpha=0.7)\n",
    "plt.title('Mental Health Distribution')\n",
    "plt.xlabel('MentHlth')\n",
    "plt.ylabel('Frequency')\n",
    "\n",
    "# Plot histogram for PhysHlth\n",
    "plt.subplot(1, 3, 3)\n",
    "plt.hist(physhlth, bins=30, color='red', alpha=0.7)\n",
    "plt.title('Physical Health Distribution')\n",
    "plt.xlabel('PhysHlth')\n",
    "plt.ylabel('Frequency')\n",
    "\n",
    "plt.tight_layout()\n",
    "plt.show()"
   ]
  },
  {
   "cell_type": "markdown",
   "metadata": {},
   "source": [
    "Reference to the previous section confirms that the features **MentHlth** and **PhysHlth** contain outliers, which is further verified using the histogram.\n",
    "\n",
    "**MentHlth** shows a few outliers, which is expected in real-world medical data.\n",
    "\n",
    "**PhysHlth** also presents minor outliers, considered normal in this context.\n",
    "\n",
    "For V1 of the project, Linear Regression will be used as a simple baseline model to help understand the problem structure and model behavior."
   ]
  },
  {
   "cell_type": "markdown",
   "metadata": {},
   "source": [
    "---"
   ]
  },
  {
   "cell_type": "markdown",
   "metadata": {},
   "source": [
    "This section covers boxplot visualizations for overall EDA and outlier detection. All three selected features are included."
   ]
  },
  {
   "cell_type": "code",
   "execution_count": 16,
   "metadata": {},
   "outputs": [
    {
     "name": "stderr",
     "output_type": "stream",
     "text": [
      "C:\\Users\\singh\\AppData\\Local\\Temp\\ipykernel_19404\\2001288949.py:8: MatplotlibDeprecationWarning: The 'labels' parameter of boxplot() has been renamed 'tick_labels' since Matplotlib 3.9; support for the old name will be dropped in 3.11.\n",
      "  plt.boxplot([menthlth, physhlth, bmi], vert=False, patch_artist=True,\n"
     ]
    },
    {
     "data": {
      "text/plain": [
       "{'whiskers': [<matplotlib.lines.Line2D at 0x1b5d16a3380>,\n",
       "  <matplotlib.lines.Line2D at 0x1b5ef3ef9b0>,\n",
       "  <matplotlib.lines.Line2D at 0x1b5ef4387a0>,\n",
       "  <matplotlib.lines.Line2D at 0x1b5ef438a70>,\n",
       "  <matplotlib.lines.Line2D at 0x1b5ef439a90>,\n",
       "  <matplotlib.lines.Line2D at 0x1b5ef439d90>],\n",
       " 'caps': [<matplotlib.lines.Line2D at 0x1b5ef3efc80>,\n",
       "  <matplotlib.lines.Line2D at 0x1b5ef3eff80>,\n",
       "  <matplotlib.lines.Line2D at 0x1b5ef438d10>,\n",
       "  <matplotlib.lines.Line2D at 0x1b5ef439040>,\n",
       "  <matplotlib.lines.Line2D at 0x1b5ef43a090>,\n",
       "  <matplotlib.lines.Line2D at 0x1b5ef43a390>],\n",
       " 'boxes': [<matplotlib.patches.PathPatch at 0x1b5ef3ef650>,\n",
       "  <matplotlib.patches.PathPatch at 0x1b5ea512fc0>,\n",
       "  <matplotlib.patches.PathPatch at 0x1b5ef4395b0>],\n",
       " 'medians': [<matplotlib.lines.Line2D at 0x1b5ef438290>,\n",
       "  <matplotlib.lines.Line2D at 0x1b5ef439310>,\n",
       "  <matplotlib.lines.Line2D at 0x1b5ef43a630>],\n",
       " 'fliers': [<matplotlib.lines.Line2D at 0x1b5ef3c2c00>,\n",
       "  <matplotlib.lines.Line2D at 0x1b5ef4395e0>,\n",
       "  <matplotlib.lines.Line2D at 0x1b5ef43a900>],\n",
       " 'means': []}"
      ]
     },
     "execution_count": 16,
     "metadata": {},
     "output_type": "execute_result"
    },
    {
     "data": {
      "image/png": "[encoded data removed]",
      "text/plain": [
       "<Figure size 1200x400 with 1 Axes>"
      ]
     },
     "metadata": {},
     "output_type": "display_data"
    }
   ],
   "source": [
    "bmi = df[\"BMI\"].values\n",
    "menthlth = df[\"MentHlth\"].values\n",
    "physhlth = df[\"PhysHlth\"].values\n",
    "plt.figure(figsize=(12, 4))\n",
    "\n",
    "\n",
    "# Combine MentHlth and PhysHlth into a single chart\n",
    "plt.boxplot([menthlth, physhlth, bmi], vert=False, patch_artist=True, \n",
    "            boxprops=dict(facecolor='purple', alpha=0.7), labels=['MentHlth', 'PhysHlth', 'BMI'])\n"
   ]
  },
  {
   "cell_type": "markdown",
   "metadata": {},
   "source": [
    "Visualisation shows that each of these features consists outlier"
   ]
  },
  {
   "cell_type": "markdown",
   "metadata": {},
   "source": [
    "---"
   ]
  },
  {
   "cell_type": "markdown",
   "metadata": {},
   "source": [
    "For the current version, everything looks fine and there's no more need of dropping columns or other data preprocessing."
   ]
  },
  {
   "cell_type": "markdown",
   "metadata": {},
   "source": [
    "Used Histogram this to check for the feture vs target, This is called Bivariate Analysis."
   ]
  },
  {
   "cell_type": "code",
   "execution_count": 17,
   "metadata": {},
   "outputs": [
    {
     "data": {
      "text/plain": [
       "<Axes: xlabel='Diabetes_binary', ylabel='BMI'>"
      ]
     },
     "execution_count": 17,
     "metadata": {},
     "output_type": "execute_result"
    },
    {
     "data": {
      "image/png": "[encoded data removed]",
      "text/plain": [
       "<Figure size 640x480 with 1 Axes>"
      ]
     },
     "metadata": {},
     "output_type": "display_data"
    }
   ],
   "source": [
    "sns.boxplot(x=\"Diabetes_binary\", y=\"BMI\", data=df)"
   ]
  },
  {
   "cell_type": "markdown",
   "metadata": {},
   "source": [
    "## **EDA SUMMARY**\n",
    "\n",
    "###  `Target Variable`\n",
    "-  Is imbalanced - 84% non-diabetic and 16% diabetic\n",
    "- Indicates that need careful evaluation matrics later\n",
    "\n",
    "###  `Continous Features Analyzed` (\"BMI\", \"MentHlth\", \"PhysHlth\")\n",
    "- Outliers detected but retained, as they show real world variablity\n",
    "- **BMI** is normally distributed, while other two are right-skewed\n",
    "\n",
    "### `Correlation Insights`\n",
    "- Most features show low correlation with target\n",
    "- Some mild positive/negative correlations among features, but no strong rebundancy\n",
    "\n",
    "### `Categorical &  Ordinal Features`\n",
    "\n",
    "- All features are already in numeric form\n",
    "- No missing values detected\n",
    "- Ordinal features (like GenHlth, Education) reflect meaningful progression"
   ]
  }
 ],
 "metadata": {
  "kernelspec": {
   "display_name": "myenv",
   "language": "python",
   "name": "python3"
  },
  "language_info": {
   "codemirror_mode": {
    "name": "ipython",
    "version": 3
   },
   "file_extension": ".py",
   "mimetype": "text/x-python",
   "name": "python",
   "nbconvert_exporter": "python",
   "pygments_lexer": "ipython3",
   "version": "3.12.8"
  }
 },
 "nbformat": 4,
 "nbformat_minor": 2
}
